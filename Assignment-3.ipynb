{
 "cells": [
  {
   "cell_type": "markdown",
   "id": "da90001b",
   "metadata": {},
   "source": [
    "# Assignment - 3 "
   ]
  },
  {
   "cell_type": "code",
   "execution_count": null,
   "id": "f52c0f37",
   "metadata": {},
   "outputs": [],
   "source": []
  },
  {
   "cell_type": "code",
   "execution_count": null,
   "id": "c3ca7d1e",
   "metadata": {},
   "outputs": [],
   "source": []
  },
  {
   "cell_type": "code",
   "execution_count": null,
   "id": "d2b04c79",
   "metadata": {},
   "outputs": [],
   "source": []
  },
  {
   "cell_type": "markdown",
   "id": "b203c65d",
   "metadata": {},
   "source": [
    "### 1.What do these loops print?\n",
    "\n",
    "for(i = 0; i < 10; i = i + 2)\n",
    "\tprintf(\"%d\\n\", i);\n",
    "\n",
    "for(i = 100; i >= 0; i = i - 7)\n",
    "\tprintf(\"%d\\n\", i);\n",
    "\n",
    "for(i = 1; i <= 10; i = i + 1)\n",
    "\tprintf(\"%d\\n\", i);\n",
    "\n",
    "for(i = 2; i < 100; i = i * 2)\n",
    "\tprintf(\"%d\\n\", i);\n"
   ]
  },
  {
   "cell_type": "markdown",
   "id": "66449293",
   "metadata": {},
   "source": [
    "i) 0\n",
    "\n",
    "   2\n",
    "   \n",
    "   4\n",
    "   \n",
    "   6\n",
    "   \n",
    "   8\n",
    "   \n",
    "ii)100\n",
    "\n",
    "93\n",
    "\n",
    "86\n",
    "\n",
    "79\n",
    "\n",
    "72\n",
    "\n",
    "65\n",
    "\n",
    "58\n",
    "\n",
    "51\n",
    "\n",
    "44\n",
    "\n",
    "37\n",
    "\n",
    "30\n",
    "\n",
    "23\n",
    "\n",
    "16\n",
    "\n",
    "9\n",
    "\n",
    "iii) 1\n",
    "\n",
    "2\n",
    "\n",
    "3\n",
    "\n",
    "4\n",
    "\n",
    "5\n",
    "\n",
    "6\n",
    "\n",
    "7\n",
    "\n",
    "8\n",
    "\n",
    "9\n",
    "\n",
    "10\n",
    "\n",
    "iv)2\n",
    "\n",
    "4\n",
    "\n",
    "8\n",
    "\n",
    "16\n",
    "\n",
    "32\n",
    "\n",
    "64"
   ]
  },
  {
   "cell_type": "code",
   "execution_count": null,
   "id": "6b06feeb",
   "metadata": {},
   "outputs": [],
   "source": []
  },
  {
   "cell_type": "markdown",
   "id": "58b92032",
   "metadata": {},
   "source": [
    "### 2.  Write a program to print this triangle:\n",
    "\n",
    "\"\t*\n",
    "\n",
    "\t**\n",
    "    \n",
    "\t***\n",
    "    \n",
    "\t****\n",
    "    \n",
    "\t*****\n",
    "    \n",
    "\t******\n",
    "    \n",
    "\t*******\n",
    "    \n",
    "\t********\n",
    "    \n",
    "\t*********\n",
    "    \n",
    "\t**********\n",
    "\""
   ]
  },
  {
   "cell_type": "markdown",
   "id": "df54287e",
   "metadata": {},
   "source": [
    "#include <stdio.h>\n",
    "\n",
    "int main() {\n",
    "\n",
    "   int i, j, rows;\n",
    "   \n",
    "   printf(\"Enter the number of rows: \");\n",
    "   \n",
    "   scanf(\"%d\", &rows);\n",
    "   \n",
    "   for (i = 1; i <= rows; ++i) {\n",
    "   \n",
    "      for (j = 1; j <= i; ++j) {\n",
    "      \n",
    "         printf(\"* \");\n",
    "         \n",
    "      }\n",
    "      \n",
    "      printf(\"\\n\");\n",
    "   }\n",
    "   \n",
    "   return 0;\n",
    "   \n",
    "}"
   ]
  },
  {
   "cell_type": "code",
   "execution_count": null,
   "id": "12fd2f98",
   "metadata": {},
   "outputs": [],
   "source": []
  },
  {
   "cell_type": "code",
   "execution_count": null,
   "id": "ea4b5626",
   "metadata": {},
   "outputs": [],
   "source": []
  },
  {
   "cell_type": "markdown",
   "id": "9c808d52",
   "metadata": {},
   "source": [
    "### 3.What would this code print?\n",
    "\t\n",
    "int i;\n",
    "\n",
    "\tfor(i = 0; i < 3; i = i + 1)\n",
    "    \n",
    "\t\tprintf(\"a\\n\");\n",
    "        \n",
    "\t\tprintf(\"b\\n\");\n",
    "\n",
    "\tprintf(\"c\\n\");\n"
   ]
  },
  {
   "cell_type": "markdown",
   "id": "0b37516e",
   "metadata": {},
   "source": [
    "a\n",
    "\n",
    "a\n",
    "\n",
    "a\n",
    "\n",
    "b\n",
    "\n",
    "c"
   ]
  },
  {
   "cell_type": "code",
   "execution_count": null,
   "id": "4aa01253",
   "metadata": {},
   "outputs": [],
   "source": []
  },
  {
   "cell_type": "code",
   "execution_count": null,
   "id": "214a9f6f",
   "metadata": {},
   "outputs": [],
   "source": []
  },
  {
   "cell_type": "markdown",
   "id": "93eaed66",
   "metadata": {},
   "source": [
    "### 4.Write a program to print the following Sequence\n",
    "\n",
    "2\n",
    "\n",
    "4\n",
    "\n",
    "6\n",
    "\n",
    "8\n",
    "\n",
    "10\n"
   ]
  },
  {
   "cell_type": "markdown",
   "id": "1548536f",
   "metadata": {},
   "source": [
    "#include <stdio.h>\n",
    "\n",
    "int main(void) {\n",
    "\n",
    "int i;\n",
    "\n",
    "for(i = 2; i <= 10; i = i + 1)\n",
    "\n",
    "    if(i % 2 == 0)\n",
    "    \n",
    "        printf(\"%d\\n\",i);\n",
    "\n",
    "\n",
    "}"
   ]
  },
  {
   "cell_type": "code",
   "execution_count": null,
   "id": "ee66f092",
   "metadata": {},
   "outputs": [],
   "source": []
  },
  {
   "cell_type": "code",
   "execution_count": null,
   "id": "28034ea1",
   "metadata": {},
   "outputs": [],
   "source": []
  },
  {
   "cell_type": "markdown",
   "id": "173dc72b",
   "metadata": {},
   "source": [
    "### 5.Write a program to swap the values of two variables."
   ]
  },
  {
   "cell_type": "markdown",
   "id": "4232e20e",
   "metadata": {},
   "source": [
    "#include<stdio.h>  \n",
    " \n",
    " int main()    \n",
    "{    \n",
    "int a=10, b=20;\n",
    "\n",
    "printf(\"Before swap a=%d b=%d\",a,b); \n",
    "\n",
    "a=a*b;//a=200 (10*20)    \n",
    "\n",
    "b=a/b;//b=10 (200/20) \n",
    "\n",
    "a=a/b;//a=20 (200/10) \n",
    "\n",
    "printf(\"\\nAfter swap a=%d b=%d\",a,b);       \n",
    "\n",
    "return 0;  \n",
    "\n",
    "}\n",
    "\n",
    "\n",
    "## output : \n",
    "\n",
    "### Before swap a=10 b=20\n",
    "\n",
    "### After swap a=20 b=10"
   ]
  },
  {
   "cell_type": "code",
   "execution_count": null,
   "id": "25d94dfa",
   "metadata": {},
   "outputs": [],
   "source": []
  }
 ],
 "metadata": {
  "kernelspec": {
   "display_name": "Python 3",
   "language": "python",
   "name": "python3"
  },
  "language_info": {
   "codemirror_mode": {
    "name": "ipython",
    "version": 3
   },
   "file_extension": ".py",
   "mimetype": "text/x-python",
   "name": "python",
   "nbconvert_exporter": "python",
   "pygments_lexer": "ipython3",
   "version": "3.8.8"
  }
 },
 "nbformat": 4,
 "nbformat_minor": 5
}
