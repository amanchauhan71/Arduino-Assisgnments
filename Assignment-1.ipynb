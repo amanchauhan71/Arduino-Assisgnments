{
  "nbformat": 4,
  "nbformat_minor": 0,
  "metadata": {
    "colab": {
      "name": "Assignment1.ipynb",
      "provenance": []
    },
    "kernelspec": {
      "name": "python3",
      "display_name": "Python 3"
    },
    "language_info": {
      "name": "python"
    }
  },
  "cells": [
    {
      "cell_type": "code",
      "execution_count": null,
      "metadata": {
        "id": "Db80ddnTwIUa"
      },
      "outputs": [],
      "source": [
        ""
      ]
    },
    {
      "cell_type": "markdown",
      "source": [
        "**What is Arduino?**\n",
        "\n",
        "\n",
        "---\n",
        "Arduino is a microcontroller-based open source electronic prototyping board which can be programmed with an easy-to-use Arduino IDE.\n",
        "In other words , Arduino is an open-source hardware and software company, project, and user community that designs and manufactures single-board microcontrollers and microcontroller kits for building digital devices\n",
        "\n",
        "\n",
        "\n",
        "\n",
        "\n",
        "\n"
      ],
      "metadata": {
        "id": "MHqUjoXpwNYP"
      }
    },
    {
      "cell_type": "markdown",
      "source": [
        ""
      ],
      "metadata": {
        "id": "j59Xp-WHwMKU"
      }
    },
    {
      "cell_type": "code",
      "source": [
        ""
      ],
      "metadata": {
        "id": "vRu53rU9yxHs"
      },
      "execution_count": null,
      "outputs": []
    },
    {
      "cell_type": "markdown",
      "source": [
        "**What does IDE stand for ?**\n",
        "\n",
        "\n",
        "---\n",
        "The Arduino Integrated Development Environment - or Arduino Software (IDE) - contains a text editor for writing code, a message area, a text console, a toolbar with buttons for common functions and a series of menus. It connects to the Arduino hardware to upload programs and communicate with them.\n"
      ],
      "metadata": {
        "id": "2vll0CaXyyA7"
      }
    },
    {
      "cell_type": "code",
      "source": [
        ""
      ],
      "metadata": {
        "id": "DhyILiGOzJDB"
      },
      "execution_count": null,
      "outputs": []
    },
    {
      "cell_type": "code",
      "source": [
        ""
      ],
      "metadata": {
        "id": "uJY_ITF7zKnq"
      },
      "execution_count": null,
      "outputs": []
    },
    {
      "cell_type": "markdown",
      "source": [
        "**I Want To Design My Own Board, What Should I Do?**\n",
        "\n",
        "\n",
        "---\n",
        "It is simple, but the bootloader part is quite complicated.\n",
        "\n",
        "You will need following ingredients to make your own Arduino UNO board -\n",
        "\n",
        "Microchip’s ATmega328P (the main brain of Arduino UNO)\n",
        "\n",
        "USB to UART converter\n",
        "\n",
        "Voltage Regulator\n",
        "\n",
        "Passive Components like - Resistors, Capacitor, Crystals\n",
        "\n",
        "A spare Arduino UNO Board (Patience !)\n",
        "\n",
        "Arduino IDE Software\n",
        "\n",
        "ATmega328P is a 5V micro-controller. So you will need to build 5V power supply first.\n",
        "\n",
        "**How to make power supply ?\n",
        "\n",
        "![main-qimg-7a4055fb3ddf6ed504cad55c88d6676c-lq.jpg](data:image/jpeg;base64,/9j/4AAQSkZJRgABAQAAAQABAAD/2wCEAAUDBAQEAwUEBAQFBQUGBwwIBwcHBw8LCwkMEQ8SEhEPERETFhwXExQaFRERGCEYGh0dHx8fExciJCIeJBweHx4BBQUFBwYHDggIDh4UERQeHh4eHh4eHh4eHh4eHh4eHh4eHh4eHh4eHh4eHh4eHh4eHh4eHh4eHh4eHh4eHh4eHv/CABEIAXYCWgMBIgACEQEDEQH/xAA1AAEAAwADAQEBAAAAAAAAAAAABQYHAQQIAgMJAQEAAgMBAAAAAAAAAAAAAAAAAwUBAgQG/9oADAMBAAIQAxAAAAD2WAAAAAAAAAAAAAAAB+P7UcsLMhprNO8X1mQ02Ux69FqAAAAAAAAAAAAAAAAAAAAAAAAAAAAAAAAB1cou1FANFsEVKlSo+h54O31BsX3BToAAAAAAAAAAAAAAAAAAAAAAAAAAAAAAABU6NeaMAdyZrQ/f8AA0eegZ4AAAAAAAAAAAAAAAAAAAAAAAAAAAAAAAAqNFznwsf0vfzQH9L380B/S9/NAf0vfzQH9eJ/Ct1AAAABCk0j+kTqK/ImkR8E0jeCTRX2SPOcQ1nQ7BxjkyxpbjmsvwAAAAAAAAAAAAAAAAAAPKPhX+qXgkyRp06Yrx6fp5iHO8SR504uemHqTdahbwAAAD86vaurnSscW/7zrXexNGaf8AvaRUOLgK71bYMW6W7rbzmA2HXeGeeSn9MAAAAAAAAAAAAAAAAAAA8pz3gA02ifMKeqOtmNINIjIoXT1r/PAf2DY/sAAAAAAAAAAAAAAAAAAAAAAAAAAAAAAAAB5R8K+7vDR1ll7RUErZiiO9ZylJ6KP6Nbrhm5gAAAAAAAAAAAAAAAAAAAAAAAAAAAAAAAAFFjJOMLrmOn5ia1l+o5cW+2VS1gAAAAAAAAAAAAAAAAAAAAAAAAAAAAAAAAAELF2SKJemXurljpd5qxN94AAAAAAAAAAAAAAAAAAAAAAAAAAAAAAAAAAOrFSsUT9XtFXLRVrTVi0gAAAAAAAAAAAAAAAAAAAAAAAAAAAAAAAAAA6kR+9F6tNUqlqxTGdsqVuw/Lb+eOeTYMgAAAAAAAAAAAAAAAAAAAAAAAAAAAAAAAAISjXmjWcWpYpteKM7bh+4Yext/PHNXKGQAAAAAAAAAAAAAAAArRVdN8W+ii45DI6nbRULT/PM1NrtrEnLttrEhtrEhtrEhtrEhtrEhrnS801+1j9qMSVUm2sSG2sSG2sSG2sSG2sSGpUaAv8ANi5YpteKRbbbh+4ZrG0j6xJvjbWJDbWJDbWJDbWJDbWJDbWJDbY3JM16cem5zxbssmNtYk4tttYkNtYkNtYkNt+cUHdivi/2Glv7NB61HP8Ahp/iv1bDmzgAr9gDoY9t+fzz/d+63Z0gCMAAAABCUO+0Ozi1YVkoAAAAAHGJ7ZidlHtorJAyAAAAAAQE/A74pmo5fqHZoHBIAAA45YZhC7RCd6Y/SoW6vmgLAbQgAOGX6dbH9mrtf7OL3jrYjPU+gHW7PZ5gGAAAAIWh3yhWWmrit3AAAAAA4xPbMTso9tFbIAAAAAAAgZ6A3xTtQy/UOvUOHcAABxzB43YNM6xxeq887vBw2nbs/NNuXf4wNoAOK7Y2JPnFdsxPnutq6Xd+umii5QxkM6gAAAQlFvdD5b7Uf0wLQ+mgu/1jfeZ1X7xCzmg/OIXfONBDIAHGJ7ZidlHtorZAAAAAAAFfsEDrNTdBzynwWXoHr06o9VLs/FS5127cvhmyE2MlfsDEnxA2GvY3qWmZnp0VhXbDylrA2jAMW2g5z2s7Pr0uTbmAAAAAI6H1n79DmKby+g5t0vIdNBk89qbbnyrIvWEEZLuHZZxyGQAOMT2zE7KPbRWyAAAAAACOxtIwPUho+7oQrQYrHpVzQZfpoMg+dImmmNbJzznIAxs2SM7uP42u1w/P9MSBtCAB5l2bveDjWNvqtZNtueJbaAAAADggqvMUDl9DaFPi4bTRJnPrVJwaGOzzIAAAAHGJ7ZidlHtorZAAAAAAEBP1HTph1Y63H6i48Z9NY30G159oPZ5jkScQACi3rgw7Juj2TYbNJedj0fnv33y92YAFNuQifwncSisNTmvn6lrwAAAAAIWiXuic19qo6aEAAAAADjE9sxOyj20VsgAAAAAACAn4HWanafmGnxWQT04AAAFTsXar2N67c6Dp2nTTp6TScYADhjkfdseKbDj0VjtX185fNV6jzBzm3OGdAAAAIWiXuhx2+rCSoAAAAAA4xPbMTso9tFbIAAAAAAAgJ+AxJTtQy/UNe4N60AABxzRdOi9V6Mk8TVLTsxt8fZPc5dqEvByN+QDjoSDGfPvc2fy7W++1zvc6L0+fcnVQAAAAAQtDvlDs4tWFZKAAAAABxie2YnZR7aK2QAAAAAABAz0Dvim6hl+odmgcEgAAD5+hjchqeJ8fqfuOhPSUfc/QsPEAAFe7hKdekUnvj3T68/67rmxq45trGrgsauCxq4LGrgsauDs0P86bdQ+jFcUstjVwzY1cFjVwWNXBY1cFjVwWLE7/AOdrmH1urfNNNY1cFjVwWNXBY1cFjVwWNXBY1cFjgfyonRr3tQ88bJ1aWNXFbLY1cFjVwWNXBY1c4LD8ee/1tIvQf1Xu7Uyyiu2LXIAFKk7EMy6mr1qwjxrQNC7O7NGlos5o0sZo0sZo0sZo0sZo0sYRDekHXpmjS3JvmjSxmjSxmjSxmjSxmjSxmjSxlWResnXpmfOluTfNGljNGljNGljNGljNGljNGljNGljNKhvSTHnDRNLbM0aWhzmjSxmjSxmjSxmjSx52mdf6XXp0u3P81MtJuxpkAAAAAAAAAAAAAAAAAAAAAAAAAAAAAAAAAAAAAAD/xAA4EAABAwMBBQYEBAcBAQEAAAAEAgMFAAEGBxIVFjBVERMUNTZUECA3YDE0QFIIISIjMjNQUyVB/9oACAEBAAEMAf8AgvOoZbu44rZTvMH3Ca3mD7hNbzB9wmt5g+4TW8wfcJreYPuE1vMH3CaQqyk2Um/bb7DyAnaWkZN/5fBNrqVaybXvfwRmzteHc+THidtm46r/ANX2EU8lhhbqvwcWpxxS137VfCFFSyKlzs/uVPio7rxKbdivgI/cchDtqQqykWUm/bb7ByS9/DtW+SLfs+E2rt7b1PPWQH3fb/V8YK//AM5H2Fkn+hn5BSHRnNtpXZV5knY7LIbtd51x5zbdVdSvjA+XI+wsk/0M8qB8uR9hZNe1mGe29rVto/emttH701to/emttH701to/emttH701to/emttH701to/emoC9rxqOy/b9hfxI+QRfK0J+nQfLEOWQ9s2BIS2MW2QGktG13YUj4hnv1CPjsDmKdcsm4hLaRDXX31NKAIZpk3aUpL47o125CylJ2hiG27GtXWQj+ra8azZ+7Su1NxzLuuWT4UhCRCvE9t7MuoTNS5TR62BFotZqalXdjZeZq07J7CF3easmNlT1yjDDrrTrVv+R/Ej5BF/Hsrsv8Oy9dl/joT9OQ+U4tKE3Ur8I5xobtRfuLWjHLMRyQ3HR6Asy3FWAdWyizBjm0izzouyyQOh15V30VdoRbhSXSEuNXfW73bbxA1kFJYdQ+pBLSH3EMOFLXclFkMGObSLPOi7ISmmi3H1LGaqSdddlXn22XdlCyLKZUtl9VLavazaGmidmMu87LhbTb6qt/yM6xIHLgxxTiCWE6j4OZiBjfa74oGHyZgUJgLhKBNc1DJCQ2LD2hYkGSkmIaIykbC7YmwexEY9Fh5TkCpDvC4xt6JyvHpizePgRsnjoKgsHANExIaeOy01RchZDsCHDO6Z6cP5UzeRMIUJG4hADY1BtRIjrzrXJvSkLv2/3lWshNkpslNuy3/W/iIlwkQI0Nt7RmmrLSJMybIbs42NfeM41eQIvap7MMkhczVj8SGhmPdjBRZbPcbhULcrTtLg0blMmttfhTpLLgICJSqRIHjNQX3i8ZxYyTvdUvonLhH4OIIwu3f/YWu81KwsNHvRRzwiyySCyFklPOPvCShokYdGsPbI1CagZaKCgRqYXsR8rIx8omTDMeaMyLLZ+fGbGkz+9Yx/LcgghlDRshdtiVkDZQ5w2QJcJIi5E+LLSXHFvCv6PyJ0rgwxkiS4SR9g/xI+QRfK0J+nIf2F/Echa4GMshKlV4d/8A8XKjoCZkW1rBjSX0mYzPhjLJKiS2mg444wlAwwjzr3B+T9ENp0MppxTbg7qVtYnkbrSHW4YxSJGGlY5xLZwBDCvDv/8Ai5WhiVJ07EspN7X+w8k/3s1C+Zs1M+WPVehfyrVF/m3qxv8ALu/Y2SfmGahvM2amfLHqvQv5Vqi/zb1Y3+Xd+xpMRl9tTrlr7UEK1dlsrsv3hDSH2VNOduyyCwuVeGvZXdoTZCEot+EyIyzdtaLK2gxWhUqS1a/Z9il/lXagPLUfAb1AT8Mg/wAB/scv8q7UB5aj4DeoCfhkH+A/2OX+VdqA8tR8BvUBPwyD/Af7HNvZIbyr3ta2PKSqNTsqsqr0K4i+REpstN1VkbiEIH21pT9jz/kR9aV+jh/hC/VeY+GrH+iJq32NP+Rn1pZ6OH+EL9V5j4asf6ImrfY0/wCRn1pZ6OH+EL9V5j4asf6Imrf8bJsiLjMux2IYaYUxa/bapmRHio904pXY2NNZrLX8dGRgzIeK5O7IHLipUTwMlzZA0UAe5BhDbDURLx0qhS48xsi3Mn/Iz60s9Hj/AAhfqvMfDVj/AERNW58gcJHj3IMIbYaiZaOlWlOR5bZCeVep7KD1Sq4bHArGFu5HlEEppWQRjTogr7RI7ZDDlnGu2seyIuRzTIIV5phI/wAmSxxcpFLEClH4x7KsYmRczxkJ/MJEp7EselYcp14/KDpdGrTbioAdfb/ajnBnQGHA9m42YWeK1ABahXktSW7dQeuhVu3UHroVbt1B66FW7dQeuhVu3UHroVbt1B66FW7dQeuhVu3UHroVbt1B66FW7dQeuhVu3UHroVbt1B66FW7dQeuhVnYOUMiDuzZjZbOEiTZMopUI9Zh3duoPXQq3bqD10Kt26g9dCrduoPXQq3bqD10Kt26g9dCrduoPXQq3bqD10Kt26g9dCrduoPXQq3bqD10Kt26g9dCp+Iz59hbLs2EpvDIp6FgWgCHG1uVC/VeY+GdwRk4KKgJ1ltzduoPXQq3bqD10Kt26g9dCrduoPXQq3bqD10Kt26g9dCrduoPXQq3bqD10Kt26g9dCrduoPXQq3bqD10Kt26g9dCrduoPXQq3bqD10Kt26g9dCrOwcmZHGdmzGy2sIEnSZJxcG9YdzduoPXQq3bqD10Kt26g9dCrduoPXQq3bqD10Kt26g9dCrduoPXQq3bqD10Kt26g9dCrduoPXQq3bqD10KtL+7ZKlxSVWVJZ04KjFD/F/4aeocRh8fZ1XbfLcflZghhyPyc6HTjWMTJOdZICzmEiO/jMaXFRaRDZV+Ud+SQho4+TBkih+8Ko4Vk0V0UluzjKcKkQ3lNxOQkCB4rjAkFtupcWSXzZ3yQ6tKvSDPPvUL9V5j9FkVu2Aka0u9HDcu9ZNiLMoZvEQpwE9nCHiyGn5+ZfkaQmyE2Sm1rWoKGjgpU2UGH2C+RP5ZGw5rQj+244O80Qwh9lxLjfNnfJTq0q9IM8+9Qv1XmP0WQ+QSNaXejhubMyYsSAswtzZRjU+HOi3dG7UOci9ZhkigFJjIxHiJScx7dzkR491T5bDpuESVhyLuEQgz7RDKXmVpcb5k75KdWlXpBnn3qF+q8x+iyHyCRrS70cNzJqTEiQVllr2UPCSGTDFz8ptMBQkQezACZHCLV4zFp8WcB71r+h758vyRQCrRkYnxEpiGN2ikqNMV4iS1I80x+jhBzg3BSmrOtMunYPJWHIu4TCDPNEMoeYcS43y53yU6tKvSDPPvUL9V5j9FkXkEjWl3o4blzUmJEgrLMc2URMcbl0gmZmUXRH5EmyccPSm1rW009IDVlECWEbxDj/8AQVi08LOhd61/Q98t6GhY4eVfk2h7WKrUjzTHqT+FSAg5wqxSmkusxYI0cE0GIjYZ5c55KdWlvpJmlLSlVk3vbtq6rWva172q9+z+dJVZX87dl7Up1tN+xS0ppDzS79iHUKv816hfqvMfosi8hkK0x9Ij06WK0Qgd0llD1qdfaZumzrqEfC9+y1WnYa972tLx/aISOWz3wr7T7fxmIePlrM2PY72yE2QmyU2ta2S+npGtM/SA3wDho4STfkRx7NkcjUjzTHqT+HOnfJTq0u9Is1j7SMjgZ2XM/qIwSTemsQjZIi/a9luIQxgcjLSy3lmRkQRO4fDj5E48qsNikwuaS8dEqcTDcWg8Lm5D4cnw+rbYjkTDlvMNXvHtY8bLocAYZST816hfqvMfosi8gkK0z9ID1jLaJvCJ2SLttPYDIvSuHRcgSrae1BGH33ixfcN9/ksymFZCcUPd6t8WvlaoDw9+3HyxwM+zNbjD6rQzY1g7ECs9yn5cl9PSNaZ+kBuXlcGRLmRbzLzbdk/hzp3yU6tLvSLNR4h0DEzUKyCQQuCYvjUNCwiRSSqnsgIcmFiPYtkRcfKZHIsQDJrGOyqisQlXCH/AtY5MgNityRenM7Ciwxzj2duEyEBCeGi5RTrN0OWS+lKrfPeoX6rzH6LIvIJCtMvSA1DRcpEw0tAAhqeRGDvQQMRDBAuFD50weTIQVw44opOpaSX4yH8INd4gdqaVnzU05DONiYoPIs5vkBpMUWwKm1rW7LfNKj3MjCRUqsm+Ixb0PBMAvuIW584uWHo1OfxSQHGQP/8AlRuWHSOpZmOCDjXj+aacIE1Z0whphHEUH1YKpiehXIkttEoGpWnUtGBYy0yWeMw7xDB9WCoCUjj3Lthmjvr7K7Kvb+VY/FMQsQzGjuOuNdnIvUL9V5j9AecGA3ZwwlphHEUH1YKpyehnYU5puUDUvT2Xiw8XYYKkBmXeIYPqwVAykectSAzRyFVJRYkg+E8SlV112fLqblMjibUccwMM8CytLjSXEXspOpOWGY65FBRY45J7e1sW2+za+fXAN0K8PlwaP70nkAYuHuZEm+0PouS4AvtIGs4Tp7lqMqjFvrEUETi82qZVK2uPZnmTEVHyzKGTx7PJ4Mxvp9cF430+uC8b6fXBmN9PqGx+IiiFPgCWac5l6hfqvMfoJqJj5ZttuQHs8ngzG+n1wXjfT64Lxvp9cGY30+oiAiYl9T4AtmnLcjPYbf2JSEalNlPaJzO9MJZHcvfxCpcI/VOWyc66rxSstyVoa0k/hJKIzith6QxtoJqz42VzV4MIcnuO+qeyvKokpht3FBlN46VLliuLmYtuOe+OUxaJvHzopfZarTMjJ4hG6fpspJjwjQGfRALFuxrFhSBdPYDJ45u6zNJCmDR8iNFcs4xy8lam3RUWgyGGHvB6g9TBolnPxx3H3JMLYgyM4mI9JokmLZrweoXVAaxljKGjHFTZozzHMvUL9V5j9Bk7U46M1aDJYYd8HqF1QGi2s+FFdJckw9iFezmXj0HCyYtmvB6g9UBrGmMnaKdVOGDPMci/4VKSTunucZI23/JiIx4iP0qAk1iqJWRlGPNQt5dUqIoODTeIawSTkU2CD1MOEIFiY4chp4vUn8xivzM4tj7MxeXaiBEHOxwbp6T3Bm1EiMx0QIOAxZgRiIi4+KZcajhGhm+bO+SnVpb6SZ596hfqvMfosi8gkK0x9Ij8ycxyDm3W3ZWMHLWhtkYdLaEoaZDxbEnCkSokPGLckAhJANYZozRA8Ni+Pw5NyY2IEGePAEOUPcsdD1/n1I80x6k/hzp3yU6tLfSTPPvUL9V5j9FkXkEhWmPpEfm5L6eka0z9IC8vUjzTHqT+HOnPJTq0t9JM8+9Qv1XmP0WReQSFaY+kR+bkvp6RrTP0gNyL1MzEvj+Q3fP7SIYZ9kkdD7DiXG9SPNMeq34VmGSLDcTFRKe/lINs9qLHbknrPFcuc8lOrSz+eIs3596hfqvMfosh8gkK0w/niA1+XmO+0gIIhHLWcxXIBZwLbR/bIyX09I1pn6QGqblBIgFRZa+xOGFzkm+RKH3s0B8xwo5grgxTSXWW1m4PI2ad7wmDz59okzG32HEuNZdkiwlpiYpPfymH42iJbUUWrv5G3MnfJTq0q9IM8+9Qv1XmP0WQ+QSNaXejhuZlUASMbxBj/wDbMZnxp3EZFaP7ZGHygkRgLJZa9lMNGmZVIJm5tOyEhNkpta1uy3znCsGiuDFNJdZyLHpeKOGHCu+SLiGOIiUKLKV38jzZ3yU6tKvSDPPvUL9V5j9FkPkEjWl3o4bm5rjL207Lwm0gjCsYIkW2CpezngUpsm3Za1rW5K3GkrShTiEq5075KdWlXpBnn3qF+q8x+iyHyCRrS70cNzFKSlN1Kva1m1ocRZaFpWm1rcg+chY9/uD5YAV2Oko+SbU5HnDFozqZXCwinmPzMbgbRY9jJs0t06GJJxPJ0wR53fR2/YXq4Fb9hOrgVv2E6uBW/YTq4Fb9hOrgVv2E6uBW/YTq4Fb9hOrgVv2E6uBW/YTq4Fb9hOrgVv2E6uBW/YTq4FZllcaJErZFdZOd0yyQEULc5ikD1v2E6uBW/YTq4Fb9hOrgVv2E6uBW/YTq4Fb9hOrgVv2E6uBW/YTq4Fb9hOrgVv2E6uBW/YTq4Fb9hOrgVv2E6uBW/YTq4FGZHCjiuv7zEcqLyxpjMyZt4RSWbT0J1cCt+wnVwK37CdXArfsJ1cCt+wnVwK37CdXArfsJ1cCt+wnVwK37CdXArfsJ1cCt+wnVwK37CdXArfsJ1cCt+wnVwK37CdXArfsJ1cCt+wnVwKzXK44aJWOI60c5ppkoI8faHMUga+/oTq4Fb9hOrgVv2E6uBW/YTq4Fb9hOrgVv2E6uBW/YTq4Fb9hOrgVv2E6uBW/YTq4FXnYXq4FJbKzmZL2i3WIafxZWOiKmcfPJZXjsjaWhRj7Jsi8jIgRrSXZA0YRsCdhTyPDgy4BT3yzGK49MF+Lk4kYp+EhYuEZWzFAsiN6jRj0lA9oqNt+HziGIBss4iwhKdjOMsQ74dd4jgbGvYKrgbGvYKrgbGvYKrgbGvYKrgbGvYKrgbGvYKrgbGvYKrgbGvYKrgbGvYKrgbGvYKrgbGvYKrgbGvYKrgbGvYKrJsAGcESqCbSy/iuAO3eU9Ptps3wNjXsFVwNjXsFVwNjXsFVwNjXsFVwNjXsFVwNjXsFVwNjXsFVwNjXsFVwNjXsFVwNjXsFVwNjXsFVwNjXsFVwNjXsFVwNjXsFUXgcA4K6gcVTLwun02uQsyR3DQ9sFxr2C64Gxr2Cq4Gxr2Cq4Gxr2Cq4Gxr2Cq4Gxr2Cq4Gxr2Cq4Gxr2Cq4Gxr2Cq4Gxr2Cq4Gxr2Cq4Gxr2Cq4Gxr2Cq4Gxr2Cq4Gxr2Cq4Gxr2Cq4Gxr2CqyfAB1ioXAtJaexXAHO8W9Ptp2OBsa9gquBsa9gquBsa9gquBsa9gquBsa9gquBsa9gquBsa9gquBsa9gquBsa9gquBsa9gquBsa9gqoU9GGzZsVJNqbCy7LgHo12Nh3VGl4lHriseECcsmzk5DRc2OhiUCaLbh8Ux6IMsZHRAwz/AM97UVAwxRdiiI0Zx4dhgZlLI7SGW/8AunAiHMXYMGafbj4eLj72uEAOwr7S/8QAShAAAQICBQcHCgELAwUBAAAAAQIDABEEEiEx0RMUMEFxc7IQIlFhdLHSBSAjMkBCYIGhwZEkM0NQUmJygsLh8RWS8AYWNESiU//aAAgBAQANPwH9Qi8xsMbDGwxsMbDGwxsMG0H4ETarbynUI2eYi1Oz4DSIUZnlcEyerkBkrrHKDb1iDaPgKv8AbzAKqtvI4ZfLzJnv+Aq/28zWNRjplHT5kz3/AAFX+2ime/4Cr/aNsbY2xtjbG2NsbY2xWV3/AAFnSuDRZV7jOjmRlVFNWz5z+kKTWtFsZPKBxwpkR8iYV6q1pEj9Zj5wm9SyiU/kYCSr0kpEC8zBMLICHFpsVO7rHzij2qHSJTmIDOWJNwTChNK1JsOHzi9KlixQ6obTNU0z1ThZPudEKMvzd3/Jw7rSiX/Lv1TnSuDRZV7jOiEFSipYcMzaSLJdcIQU10uE27JRkahWhZMzKU7oE66kkzVsGr6wtQI/2gfaKQgprKUStAPujq1wlQUtaSZrkZiyVkFRLSyJyBSAQeqFUTIWXgzvgespJM1bBKz6woc4NEyWqfrGOclBDZ6JThBVPmajCSTWU3b+HyhudZxxBmbO4fqlhwuJLMpkylrBh8+hfCZW/sqGownm5V6jqU44Z65KvhshymLoTRTkyRYzabSAZnrs1QrJtqpa62cv17S4hQuFv/yY8gpcclMDOFBdVDZIurHo6I8nMZ2yqggpC2wRlAoE6hbOKfSXlekoynqrKJJnzfV50MCotmjsqbt/eBN8BRSClPPdIvqzsl1w2pSgp2Va0z1aM9Agfrdx9L1Ue6lINp/GPI9EXS0oNynBY3P+Yz+UUmkjLvE285XOV9TFFdzaj0DIzLrd3rHnW9IMZohxhsKrWIUhS0dJImbL7IT5HdoxWLso4UhIhxomh5s7UQQFGc6kudOc52w4w9l1L/OKaDnoir/6ihAtPNm8Wkg7DP4DcpBSstmUxVhZmtxxVZStpinVM4RVBr1FVk26rejkQiohSm0KcSOgLIrfWEkqywVNUzfPphtVcNoaS2mt0kJAmYUqtkltpcTPpAUDKHPWcWZkwmyu0qqZdEKccBcWbTJVnwFnSuDRZV7jPwFnSrhP3I/hMIMlFCLjCPWWpuwaoX6qEotMbuEEpUCg2GFpCkkN3gwsVkhaLxH8JjKu3j98/AlUxb3GJDv5Kg7oyiu+K/2+Bqpi3uiQ7+SoO6K6u+K/2+BkIMrYBOuFXyhKZjnbIAlDjnOtgmZmZ/A1Q90TPfyVMOTKfA9Q90TPfyVMOTKfA9Q90TPfyVMOTKfA4bVMnZFZVx6+SpdO33eTKazL4HzZzhMZRzi5M2Hc3yZ4O74HzZzhMZRzi5M2Hc3yZ4O74HzZzhMZRzi5M2Hc3yZ4O79T+U1upeUsGsmqBKrb18jYuF6j0DrgWoS9e6Ns7flKGxOobAvYDrlph7y1ShPrVbxtBt0ubOcJjKOcXJmw7m+TPPt7APeWZQmxVW8bRpEfnXDalH+LLTBsU/R7xM7ZfLXDiayVC4jk8m5LJKSDWVWEzO3zVFJFIZE1JkYpS3gzSFp51HkBOrztcLbqpbfTIIM77zCKUnKjpEjCmxkqt1WVkIZIU4RzU2Eidh1T/ERsHgjYPBGweCNg8EbB4I2DwRsHgjYPBGweCNg8EbB4I2DwRsHggLNUtCxBlr5ohDZrvK9QA6jYY2DwRsHgjYPBGweCNg8EbB4I2DwRsHgjYPBGweCNg8EbB4IcSUqErwf5ISpSiUXWmfJmw7m+Rh7KeknK6Ng8EbB4I2DwRsHgjYPBGweCNg8EbB4I2DwRsHgjYPBGweCNg8EbB4I2DwQFKCC0LEHrsF8Jbk46r1AOg2G2Ng8EbB4I2DwRsHgjYPBGweCNg8EbB4I2DwRsHgjYPBApHpTrUka/90/xhTdVMryv3frKCgkWSkCTIQ2ghSGEzC7bzaIouRytKSnnUiabK3O1QFE5d4SUZ6vNoJUaMuuRUrX2Cw3a+R1NVaTrEOHnt2zH1+tkOiTj69YnOQGmzdzhMZVzv9gzYdzfsWaucJiu5xnSD9Ki5UhZP6Wwj9FaE/jOBYByU6rnDlcmvVusuHy0Kj6QN25JPScIWKyVJNhGmzdzhMZVzi9gzYdzfsWau8Jiu5xnSpuGtR6B1wixxpXrJ/tonrEpAnk569vVFOpP5Sa3WmyfzNsPr9Gu8tHHq13iFiaVJMwRpc3c4TGVc4vYM2Hc37FmrvCYrucZ0ibhrUegdcMMOKojAN8hfs69eyGyvLNX5RIUdWzV94R+dZJtQcOvQPWJSkTyc9Z6+qHrXHCZ1Z3gfcxnX9SIcElJMPq5i7y0cerXfCxNKkmYI0mbucJjKucXsGbDub9izV3hMV3OM6NNw1qPQOuEH8mo2pQw69eyBRXAAP4TFZzjMI5z7KRY4NdnePvCPzzJNqDh1+e/66yZ/h0cmdf1I5HBJSTDYkkTn16TN3OExlXO+DcJ38hu8y+0x1KnoM2Hc37FmrnCYrucRhz1G1LAUrYNfItVVNZUqx6Byi/8pRjE5V21hQ/EeYyuugTI/wCCBcBGbOcJis5xnkfElkGw/LQ51/UjT5u5wmMq5xQ/SKQijO+9R0N2IqH3ZETs1w8wMoRrULCfpCG1ut0rLKTmwSJpCBOQAl87YzdK6WzXKS8qVgWRbtGswmjtLLJWVJZfUTYmf7tp2iKI442tEhXJQqqZWygeVaNz1oBISSZjZ1RQefXaZqSCwpMrrbj9NBmw7m/Ys1c4TFdziMeUXqSpSzekImGwDqq1RKHaOnKK6VCwn6R/rDaMpV51WqqycUqmtUSQVKrXMq0JoQpeVrWevVqyitRlegoynP0Z/ZEUo5wpP7yhM+dmznCYrOcZ0dEfrrrztEwbPw0+bucJjKud8PPPOeT1NomhYduClXJqqJnPVdOKoZW8w3NDZlMqV0AmKOoEFihzTSFg65kc0fWKSohFHRR662Uz9ZwXAytqziSnX6T5QaCMos7CZqP0Ah1591typ6NxCnKwKVe8eoQmn0ekLaFFUVoQk2kyuPVfCh7ySlUthtGgzYdzfsWaucJiu5xGKS68qgv1gENpdvr6xVJOq2yG0Bl18LSnJBKfWIN8z0RQ/KCKU8purIIAUNZEzbdA8qMPIYrBKl1ApZTbZOQMUjydmx9MgqZIXW59vDOPKKmSw6upLmIIM5KmPPeaUgE6piUIKiooutM9AtnK0N5ANZdk5G3+Lou5KC1N94zylaQsFsvWMrtR0xMgpxYSJxvkwphYSA8LTVMBxZqLcAN8b5MJEyG3AogeYzWqqcM1WqJ++izYdzfsCjIFxYTMxv0wujuBIDwmTVMBa5oW4ARzjG+TCRMhtwKI5KG/l2ZKlJUiPnf57tIyVJLgVWTrFWR6ArUYUJgjWI8ov5NCHZyAsGojWoRrldoPJlJSHCNaCQRPpE7P5ozXLt9Kpjmj8SBHlpp6nqeK+dVbVVAu1kqN8NyK2VGfNM6qgZWgyPzBigeUXaEJLrV6kud1X3aRCqybSJH5Rvl4xvl4xvl4xvl4wpNUqrk2fPTZsO5v2BtVZNpEj8o3y8Y3y8Y3y8Y3y8YWmqVVyqz56Fxolmf/AOgtT9Y8nqzZyfQPV+kh8o/6dZyaJJnNydQAaplRWRdcIlXUU0pJpCUS9YtfaceXEuqQ7WkWwhutd06uqHqWzR5FVWVdUp/KKVTBRaMv/Uhz1GdWyrZYIC5JbRSQ9WTK+YG3zKSypCVH3Vaj8jKP9RNGdmD6gVzZ7FE/7Io/kB5pGxKkiKBRlB9of+zR66ipG0esnrn0w/5dpDjax7ySlBB0lfnlwXp6rDGxPghtBWZBM5D+SFKKRXQkGz+WNifBFTmpbAnWnsGmzYdzfsAX6TKi8dVhjYnwQ0grVIJnIW/sQskCulINhl+zGxPgipzEtgTrT2DReVKIqkUQ6g6Z1dslFUHymz5VpbSUkqUwk3S18235xVrBYcHO6gL59V8GlU1dZZkloPpJaB6Jw/5Uo5bZbWFKISqZMujrj/uCj9y/OrlzLBHOrG87YQ0WUuG8IN4gGow1WkJ3yE4dcLq0tiQKjefpps3c4TGVc7/YM2Hc37FmrnCYrucR0jYqoU4m0DohtNVKRYlKR9oJrpdQ2CJ9I1Q4JKbcTNJgiWUQjnS2xRng+zW9xwXKHXoM6/qRp83c4TGVc7/YM2Hc37FmrnCYrucR0ubOcJiu5xnR51/UjT5u5wmMq53+wZsO5v2LNXOExXc4jpc2c4TFZzjOhpJAQUJ/M/374WKyVJNhEZ1/Ujke5oCRPJz+/wDkwE+kWNZ0mbucJjKud/sGbDub9izVzhMV3OI6NhddxurMuJ6P7Qj88yb0nCM2c4TFZzjMD1Ui9Z6BDw/JmJXfvT6O/wA9wSUk64pC+aq8tHHv2wuk1kqSbCKyIe5oCbcnP7/5MPWuukzlPUMdelzdzhMZVzi9gzYdzfsWau8Jiu5xnSI5zrKRY6NdneNe2EUVzLMztSap+kBTgSnWs1jYIT/4tF1EYd+yBoHBJSTrjLV6GUidRdlh6DYOow9a66TOU9Qx16bN3OExlXOL2DNh3N+xZq7wmK7nGdKpChSGUfpUkWy6+rXthieb0ddlaZmTLon+OzRq9UFVp0+bucJjKucXsGbDub9izV3hMV3OM6QWkmDrBmNDKtUepCUKlsJhJkpTDoWAflDqskz1E6/lDwC1SVLJk95h5uuy66oJDd513WgiWyO0JxjtCcY7QnGO0JxjtCcY7QnGO0JxjtCcY7QnGO0JxjtCcY7QnGO0JxikpU3Jp0GoJXmW2EVnEPLXJKpm0dRjtCcY7QnGO0JxjtCcY7QnGO0JxjtCcY7QnGO0JxjtCcY7QnGO0JxjtCcY7QnGG0FVRDySpXUBFKTk1IC5lsc23r9WO0JxjtCcY7QnGO0JxjtCcY7QnGO0JxjtCcY7QnGO0JxjtCcY7QnGO0JxjtCcY7QnGO0JxjtCcYpSFteidBCARKZlthustDy1gIXMzl1G2O0JxjtCcY7QnGO0JxjtCcY7QnGO0JxjtCcY7QnGO0JxjtCcYoq6qEt/pD/e/qBEUYTU2o1gRO3/ABDqJqSDOR1iFGqlT7oQCei2JTqM0hK1S2A+dVCa6xbIQ4qstLYvMUZwPJTrMrwOuEp9K2tJv11envihtlJK5prk7Nc5fIRv14xv14xv14xv14xv14xv14xv14xv14xv14xv14xv14xv14xv14wgmslbiiHBtNxgCSWEOWk9JIjfrxjfrxjfrxjfrxjfrxjfrxjfrxjfrxjfrxjfrxjfrxjfrxjfrxjfrxgoIQvKqNU6jKcT5z6VzmOoXz2xv14xv14xv14xv14xv14xv14xv14xv14xv14xv14xv14xv14xv14xv14xv14xv14xv14widdC3CcoNpuMSkhhDls+kkRv14xv14xv14xv14xv14xv14xv14xv14xv14xv14xv14w+7laO8lJUP7iX1EUpOTGSRMAGw/OUNo9JVurG0whVdKXBcbpwAUhaBbI6Gc6xRft6fnCbkITID5fr79lxM4EwFJRzreu/4T//xAArEAEAAgICAAMIAwEBAQAAAAABABEhMUFRMGGBECBAYHGhsfBQkcHx4dH/2gAIAQEAAT8Q/gQtbZxP0D/J+gf5P0D/ACfoH+T9A/yfoH+T9A/yDgGA0jz8icSBX20ehn1JcuJESgLWJHDXi7/W42KIiNNy5bPMKTluvR/J8h8jYrt4PVolwQE832pMNi7FogVGEw1BuwP1H25u9Ts2f1C2DEOR18hEAoOZeHL27xChR/IGP/fY/OMB5G1/z19xm5WjLdFvkL7z+XuZY7hMh0kWeRbvxcZNW1+PL3P1fb5C+8/l4X6vt8hbWztDlP8Ag5/wc/4Of8HP+Dn/AAc/4Of8HP8Ag4hANg3y+FYOd+2/OH8R+y7T0npPSek9J6T0npPTw1TMET1ysl0PJMQVoSSgBd49GM9YL1Zd0oxnIQULWSw3kF6I63Bc1x0aCGVyJxDFvOeioExZhpzK+nujdAtrQUMocyi4K0Vg+YM19SpcIDVDFG3sqJwsHGO+FfQIYr+ARXNF/pp8ovTqFZEi40bgSzigt+jGodlS4VlD6NSwVtNuU5LpEaZJkfxH7rt7KemW6nkSmIbKnQXETZXiCkATZQr6BlhLWaWy4Zp+qMUg9oy5Gt9wF3DtpoCa1cpTjYa6LAz229DuVDdaWwMjHamagkcFo4zaVVOG8UM4kBVAMF0Fy1kN2OmngAFbtTYeTsISP7Utw0Eqqf8AybVpe+hQedt6HcIluW1WqQBoDly2uJjAOWmQ05cxrS7IWAUY3Vwgx60s1odA5y3qM6bqgFIOw0HOZr/EPDoEowNSqiYaAg6FuhtSlEL7CvZaooqsF5Vg6hyZvb1ilEW6sCrrQj+xcCaAOACUC5athOMo1qURFHIxco+h5vKg2bL6N2Ut2N83TkKd3cWZ14trtZprjEshaeaAUUGRV5KpzTY+TSXV0Db14Q3HQcEET6P+yngqAZX1lfWV9ZX1lfWV9ZX1lfWV5v8AcDO3+5Xm/wByvN/uJnb/AHDX8QobZWbsyTHkWkDml1OPJVNFpYBSxe2oQINKBXYuLyW4mGPJQVCHrVAAJsFTVrcoDZVTIyVxztS4timW+FUV5AfKxbUxEArIFQ0XmZQOvpBa3ZguXMIaxSJ9YgM92bIIlnyEBns6JoONXLHdgI7TLCpHLdwAuivIvmWnMCPxgjqwijXCHjSISyybytu7u8y0MKiIqpAMC3VtbitkIXdWGJrKVcWLQ4sFB5AAAYCGxRDbG0mxow4l43dRKC/IPkL912+TBSOQZGpl1P0L/IWXjFELB9JVxKwyIL9UI9KUQUBWvQYIhviy4EQDSOOGN3sJQLE+okuUtCNlWepP0L/IT7Y0H1PkKpX1/uEzF/8A2gMBWdZE/Q0gKcGp536vkhNB/wCiH+l+Er6/38i/su595+efsOk0fpP2vSfsu0+1fh8jIA2sYavXMXtNiY8mvpDKQAFTu9+kSrGFruuXqwwWkLeAqGELLN3l+kClyhyqvkb9/wBp+j7R1Ptv49n7T+IfI37/ALT9H2jqfbfx7P2n8Q+Rv3/afo+0dT7b+PZ+0/iHyM5pBFACysXzgFJB4YmkK7KJNKLY3yf2ezNjtK7UZ3DN/I54AAB/9kdQFlHsEjeD/wDBNPV/PyO+/Zdo69sH950mnq/n+JuX8a+/Zdo69sH950mnq/n4y5fgKG2Nk0IJtgAu12MAMl1Mln8HQJ2nAQAkscbJSD9QGSnmIos+BbyFAhq2y0agncs7lncs7lncs7lncs7lncs7lncs7lnc22dAL6O3yMxP10UluqALppTMs7lncs7lncs7lncs7lncs7lncs7lncRvnfuu0de2D9u/CI75ZZ3LO5Z3LO5Z3LO5Z3LO5Z3LO5Z3LO5Z3LO5uF6EL0cr5FsYrOQiurAS6aszBOyWdyzuWdyzuWdyzuWdyzuWdxAbmEYO1ykKQtNkobKWIHrlTBkoTsGlNwuEF7RkSIDZEqbXl3ZUNOqCCOn3KHuwBYgWbMOZXouK9sLXkDk0bg/tYEBrzUV6wgK4O8gGul8tx50FisKgcUUVsgzclK+aC4bHR423Lly5cuXLly5cuUHruae1dhYLfJi8jKQDpqwCqYKdLjfi5cuXLly5cuXLlyqMi4KSJZfSxYT6rngFBaK4jr2QWZnbjCLBSDkadfAbcuXLly5cuXLly5cu3Nq6Zw410wLekxeXADDyEpqFJYVwuIeFly5cuXLly5crXmNvdoqNoiFCyz0OC7Jahsmiw4F85voM7KEuV5lDvmXpDNFsckGIvzs7umilVwZcdRqdesFZS3B9fd2QyVQGYWA0dQMBGqR1CfTX14im5tCLVCAWr0Wou/DEvIBo1eVU3xDxSIIJqYEsotu884eLR1OXtg0dSjxyEgmtkSyjLuN+GDEoH4bFRCgRHSjopGBXyixWcFrBWwBe4d1wBQBoPZ5VHJFZloOh5++xYyAxAWNebzTNZ6s1R7YrSMPGVfvO0PG5fwEGU8cMKFjBl+j5X/riIUpZirpawrhMcbl+AgLYhKj5eiOeQvq42lk1e0pNOy7Oa4wEdE5EtMpXTnQGyyAfPfC0jB8VV+87Q8bl8fBlPLlIdUGX6Plf+tBLXgmAlT1AXZlFCVRa6RjHLAHnVlDODRguOwdrj0NIkHEG/dYx9J5cgcrZ6nG81J9+yHa+p9IArlXtUnfmdJsTIxww8dplwf20GGbILy98LSPiqsL/ANFDxuXwkEVh4bmmLCzxz5X/AK4jFuZXK29qs7alCBpaCgDEEMYrasbJtI5L6myhkQoYLDsHb49DkYe82faRGKaLVqLrdQKJ99jplP4I4TvyRyJkYiRJLWVSrlVV9fDfZKFtKAnfdRpujn2HgKoLV/TuGLUBlXiACo0jZ7L26sBGu8zy/MS+z7/L4KCwXf7GdfdWZIjfoiviPIwEkurHK9EGy4TKgGW4kStAuHpg4moKaNJYljh9wnlyCXVI05RscMKgwAoA0B17d1hLJY9vwC7a0FQVDKQ99n32On4BUABTepVke5WLRUrcEYsJQprcWprzlnHARAFghcKlO8LW6TTW+CAbswF6pR4rYsbylgK/tT6kcamGhclpiGchUpFlLY3o9QjVhFmRaIRE8l7/AC+CguvYWYX6JRA9pLtoApTTbtWJgfIZueoU+sFnFVWz7qsGuwhrMgNzBWNhWue4cLMOwrVu8Xd+kcl6iWGbtpb5q8zXza0gkThefO/gt1ig/bFuNOdaa3vEwPwCoFaW1QV7RAtLA5KlJfKALXUbymlzMoUISApiwIVnS4AXs3kNpUTQNihdWgEES2gzdiNuigYAKOj+Gai0CVLZmpbyLGdVCYtnYxG6h05wsED6CFe/y+CguvYWo4JQqRAeVDWxnCrhm6D81U2HXlY0uEtPAoQL1gaGpah83oAqnJNXBowsUm5KWjgWdC7roGYQTpY1WM+UBAAaDj3jnt1YnC+WZcW4HNaF0tX0e+6ZSuArim1Gg3WWJki7RMlDGiClBh2YyW4rxbkPYDoLzifr3+xV9tKgAF5Vi3Yw2NxpeYfq35mQTigKuh1cp0TSpajV9TGuQaXNoBtBjXsV7/L4GDQezwouhXLP1T/YiJq1QAA5ViitQ+WLFvJmfu3+wIQhgLVoOpV7IBVSOBuoaU8Mqej3dkNGACIAXYyB6jjO5YhYnpM8cv7ttZCUtDfTQzTqXKW5q+L8A4xjGfISC0vnhFpRoAg0bTwtA6YkXeQFkjZLXbZu4qXEUud4wi60OJY/cJSHbBZ86q34bKSVK7RVih0zz0PmoXtQ+ehR4Vi8xQs1aH9Hi8vgYKUIWtYppQ5OIV7Qvah81D5yGySTKzGizRYa6PBHiWDY5dGrAL0sFfMFbyP6Xs7U2NMxuCOWSFugZvi0T5wBvFuQGCrM2sVWrabRZYdwLG64qTxG+Vc9kE7Jr7+wWaucGmJV2aKDcFNoryvn3FpC1FIXj3SvSUv3Fiog1YWWMGVSlmwzqG86O2YEQ4to8cT0UcoHhzEKKEEsefDYB03DShwkBuuP69njKdKpArRyogBwS7qnA/z7JDgvWpaKbMVXu9nXi8vgYNiaCFw4EgZ8vX2SEtz51BVHKiGSDj6isHyd+zQ6HAqXksxVe741DwN0BGqwS2XHFBodVrQ1S2IDaVoeKpbq16tbE4Lm2dJjlZUVfUIihwVP0A4mLq/gzzYAysf3MpkaPdSoXVMvybW5rbe4Fgkm5sfJSYvSIZLTVratGZTuSwYF80B6fHKseXwUF17Szo8N1N0CptsI1ea83thHzgBSgDQA9Al5Ffv0C7+YYc7lInDycWPI5HY5JwoqSysFaXeaq+YuSEK0U8gt/vwCNwbx0/HKseXwUF17Szo8QjcXKqUFeAC1Liz77HTFqDfiZ+ypE8bl8FBde0s6NeFcPbusXLh7xXRKNqtYzyUXDWSoYV9sVpGffYsM4x5h5MSmmuQcBwbxo/0CxQxV0UXRdXz4hhToNMJ43L4ODnFsE5lGvCGO5LLNL32ilNN1dywYI+qO3w+jn2rjGu/8jinyv224h8ElO6OBS8LLdmwALPdZW0D+B/ibEyOYnGkVr+OxolmCQ+yrYqlGNSaDeWU01yDgODdQXvYMu5c72XlR4xV+87Q8bl8fBlPHOJl6t80AclPuDDI5gZOwjt8Po5JWPcMtrPlf6DLiKUfsc7Cnpt2+gCAIFAFAQ951KYgfwP8AE2JkZZ++wWVRrIW1Re7hs76rKtZy53svKiHjKv3naHjcv4CDKeO447DE2QxpRv6hhkhR6ttRC09rzStMkQAoAoDwGNczT2ND6JdsE1DxlX7ztDxuX8BBlPCAuoUAbV4mnER042YgAo+/vswivlIumg0058pgFbhq6VoNZqHyIrC6SteaC1y1EQdBoVpaKGL0YwSye/IhLVBQtSqK1DxcUKFChQoUKFChQoRwQZ5GL2rSjl+ihNSi7KEWqLxlvOnx4UKFChQoUKFChQoUILLApoXQbV0EOvA1jXHIpZjbS0WoHYX8CoUKFChQoUKFChQoUKFCq+XL5J7V0OfRZVjcMFSWqNDNl/TwwUKFChQoUKFCpwR8aqhMhY4FF2RoKzcPgk/QrDRZWVCIcMruCDTUsOkZijrJ1aKBaFrygZERbBtsNHuuptMN7lUYTBbL5CIBXVtrmpbaU1ohAG6ODy7goVUMa8A0u6NNJBVXQLYwOQrKvGWrrxvevXr169evXr16/bX0FwGARodaG2+KQSy0q5vAcAt3mqrx9evXr169evXr169evPAkfTYQ01hIpQTSkKt5w0AO3sBlPN+BevXr169evXr169evXr9tgRDyGARoTGhtviMAi2qrbsoAwC3edVDwvevXr169evXrTm6trBwcArkADVol4bisgmmKlplJABy5qWj6Zch2bbdy0PdiUtFJmlItLo4AyZXfgA7hpfYe33wXql4Oqq820MGcw/nHJUbE7aBGksvTS5Mw9pg4BWl9PWBWPlL/xABAEQABAgIECQoDBgcBAAAAAAABAgMAEQQhkdEFEhMVMUFSU7EgMDNRVGFxcpLSMoHBECI0NaHwBkBCUHDh8WL/2gAIAQIBAT8A/wAJN4KfWgLmAD1n59UOYJfbSSSKp6+rTq/nxLXE0xNMTTE0x92E4WCUhOTFQlpPVKHMLlacXE1HX169H+v8qJowVRlPz0ECXiCfpFGoweS4qcsVM/GsD6xQaMKVSEskyncT9IH9jb/LXPOngqMHdHSPIeKYwJ+Ob+fBUD+UayVGoaX8mFqUSK5kCUqpAiszs0RScHsrxHUrS3jgHFJNWnRUajKYmYzcjtDdqvbGbkdobtV7YzcjtDdqvbGbkdobtV7YzcjtDdqvbGbkdobtV7Yb/h5lVCVSC+JjX/T4Eyn+nyMZuR2hu1XtjNyO0N2q9sZuR2hu1XtjNyO0N2q9sZuR2hu1XtjNyO0N2q9sOpaYoSmg6lSipJ+7PQAesDrjB3R0jyHimMEuoapja3DIA6fkb4zc32hu1XtjNyO0N2q9sZuR2hu1XtjNyO0N2q9sZuR2hu1XtjNyO0N2q9sZuR2hu1Xtih4IaffS2X0V9RM/lMAfrFPwK1Rny2l9IH/omfzkCP3ojNyO0N2q9sZuR2hu1XtjNyO0N2q9sZuR2hu1XtjNyO0N2q9sOCj0ekpoeRChUCa8YzArBnVpqEpVV64pDQaeW2DMAkWE8lnCLtDSZKkk6QQCJ6qiDX3w8+5SFlxwzJ18tr8tc86eCuYwd0dI8h4p5lrpE+I4iMK/jnvMePJlCcLUploJC5ACoyEwOoGUwPnCFhYxkmfIccS2nGVD7altlxwdUh1Vj9f+RXRjI/Bw/wBcOW0Rm5wTrx08Fcxg7o6R5DxTA5hrpE+I4iMKEGmvEbR48lSgkTMEGkAqV8Oodfee7qEMpUy2lxFYIEx9R9euELCwFJNX2lIMpjRFL6I/LiIIBqMAACQ5S/xCfA8RAu/WBoidU/3plA5GDujpHkPFMDmF/CYo5kwk9SQYxfvYsfv6wNAP2KSFCRhfwmKN0KPAQlITUByFoC04quWVJFRMKWgvprGg6+8d8BaTUCNXVqiVUo0z/euf0ienvM+Rg7o6R5DxTA5ZIAmYW4jFNYtF8UdSMikEjQNYvgKmcYGAPrwlGoD7SJiUISEJCRoHOPYmNW3jd8hBU1jYuSM/AXw3iYwk0R3yHLwd0dI8h4pgctyWKZifdBLYryJsF8JU0oAhoy8BfDUsWpMu7m3nMmjG8OI5hX4hPgeI5jB3R0jyHimBzC/hMUXoUeA5SjIEw0vHQFdY5DjobE1aIpRmyT4cRDriW04yoBmJ8o0d1Sw8B90VE950D5yPMYO6OkeQ8UwOYKSqoa4Qy4wkNOCSk1EdRHJWrESVSnGOlbZUk1ShhQSwknRIQ2sOJxh9pAOmKQlbLZSkTSZfKsfpwhttS1ZRzTqHV/vltflrnnTwVzGDujpHkPFMDmGukT4jiIwr+Oe8yuPKdbU1NbYmDpH1H7r8Yo7ankJx6kgCrr7z3dQ5LFDbLOXfXipJkJCZJGmqYqH/ACKTQVsqGJ95JEwQDWDwPWIyLuybDdGRd2TYboyLuybDdGRd2TYboyLuybDdGRc2TYboZoNIOC3FBBljJPyAIJlp1xkXdk2G6Mi7smw3RkXdk2G6Mi7smw3RkXdk2G6Mi7smw3RkXdk2G6MFUCkOtPlKD8BHVXNJlXLUDGRd2TYboyLuybDdGRd2TYboyLuybDdGRd2TYboyLuybDdGRd2TYboyLuybDdFFoj7r6UIQZzGo3RhiivIpzs0mskio6CatEZF3ZNhujIu7JsN0ZF3ZNhujIu7JsN0ZF3ZNhugYLaSpLLjuK4ZVSMgToBM6jWNVU4WhTayhWkVclilMKYDFISSASQQRMT0iuqRl4iHsKvTCKOooQkSABNp0TJ1xnOm75XqN8Zzpu+V6jfGc6bvleo3xnOm75XqN8Zzpu+V6jfGc6bvleo3wnD9PSwWcfTr/qtjOdN3yvUb4znTd8r1G+M503fK9RvjOdN3yvUb4znTd8r1G+M503fK9RvjOdN3yvUb4o2H6cwlSQvGntVy8J/wDIznTd8r1G+M503fK9RvjOdN3yvUb4znTd8r1G+M503fK9RvjOdN3yvUb4znTd8r1G+M503fK9RvhnDFOaWFh1RlqJJHzBikYapz7hXlCnuBIFk4znTd8r1G+M503fK9RvjOdN3yvUb4znTd8r1G+M6U3fK9Rvg4QorixSHmyXBKdYxSRKROvUJgaYccU6tTitJJNv9p//xABAEQABAgMFBQIKCAYDAAAAAAABAgMABBESEyExUQUgQVJxMGEGEBQiMjM1QpGxYnJzgbLB0fAjQFBjcKGC0uH/2gAIAQMBAT8A/wAJPeEMq06WqKJBpgO+musM+EUq6oJAViQMhxy4/wA+sq92AHKYkfA/rFHNR8D+sUc1HwP6xRzUfA/rFHNR8D+sOeDqlrK744muQ1rrDPg4GnAsOcQaUHAggZ92eff/AJUKqKCYUqlO+FqspJ/oh9YOhhzNPWHvQP8AKmql2a0pCXFCoIrSLw8pi8PKYvDymLw8pi8PKYvDymC+QuzSLw8pi8PKYvDymLw8pi8PKYvDymBVSwaUhzNPWHQSggReHlMXh5TF4eUxeHlMXh5TF4eUxeHlMLdKU1smEPFSa2YvDymLw8pi8PKYvDymLw8pgWlJt1pCTUA7stIPTzoaYQVKxNBnQZ/v84sWPNpSm+fWDoewczT17E5Q16A6bzcsXnAhCaqOQHE9ImZZ2WdUy8kpUMwdyRkXp54MsipPwAGZJ4AcTGxZ5mUnkSUgap862vishCzhogHIcSLR4QQjb6LSaCaAxGQdA4j+5qPfzHnZkEGh3ik2waYdg5mnr2JyhsFKQDnutNLdWG2xVRwAGZMNuN7DWlhkhUwogKUMQgEiqUnm4KVwyHExtWYZ2nPvyc0QlaVqDazlmaIX9HlV7uRwymZZ2VdUy8mypOBB8bbzjYUEKIChQ04jQ90eDPtNvov8C4QtSCFJNCIWtTiitZqTiTqTvMexH/tG/wAK4Jofj/rxcaRXAbjmaevYy3rkdR8xHhAK7WmftFfMwDVNY/f5QcCR4mnnGVhxtRSoZEYGJb16PrD5iPCD2rM/XV8zDrzjxtOKJNAMTXAYAdAMtyUm3ZR4PNGihXvzBB/0Tvtyr7qbTbaiO5JPyBhiTmRsZ5N2qt4jCyqvor4WYXJzCBaW2oAcSlQGPVIjjWBhAFABpuOZp69ghClqCUipPAY/KsS8hNXyP4Ssx7qtR9GNvSU0rakwpLaiLaiDZVqfowtpbRsLSQdCCD/sAwcf331jiT40KKFBQzGMTMw5MvLfc9JRJPU4ntNm+U3Au51LQqfNK1j76BJGMCX2kpovDaSbIIBN45makD0eNDE55XcKt7QS4KeiFrJPdQpAP377maevYSVu/TYcuzzEkAd9RUiEpnlEAbTTU/3HP+sPMbRYcU05tJIUk0IvHMCP+MbRvPKDePB04ecCVV7qkA4dnsuRE9NJYKqVCseiVK/LsGPYj/2jf4V9g5mnr2Mt65HUfMR4Q+1Zn66vnvNItrSjUgfEgfnG0ZUSc27Lg1sKIrrQ03JCQcn3C00RaoSATQqpwGppiBhWmGMeDQKdqIBFDRf4FxISL086GWRU/AADMk8AOJhxAQtSQQaEioyPeO47zM00nZTsuVeepaCBqAlQJ+6o+PYOZp69iyoJdSo5Aj5iNsvtzO0H3mjVKlqIOoJwO7Ky/lDyWrQTaNKk0A6nh/7BlXpScDLybKkqFR94/YPGNtNLe2xMNtiqi4oADM+dE9Jqk3ywtQJGdDUA8RXUZGmFePjSpSFBSTQiNhzUttScQ+8oNvpCqk4JcBQoV7liuPBQqcxjPTzMsyZGRPm++visj5IByHHM6b59YOh7BzNPXsTlDXoDpvbPnGNohuVnVWVpIsOHuI8xf0eU+6e7Lbk6xs2bmPJFWnnFKqse4CfRT9KnpK4ZDid1SzWgFYS4CMcItDWLQ1i0NYtDWLQ1i0NYK03gxi0NYtDWLQ1i0NYtDWLQ1i0NYdWkFOPGLQ1i0NYtDWLQ1i0NYtDWLQ1i0NYUtIBNYZUmwMYtDWLQ1i0NYtDWLQ1i9NKgYQKEVG6Um1aTAaGasTF2jSLtGkXaNIu0aRdo0i7RpFwi1WkXaNIu0aRdo0i7RpF2jSLtGkXaNIUwg8Iu0aRdo0i7RpF2jSLtGkXaNIu0aRdo0gsoIpSEsoApSLtGkXaNIu0aRdo0i7RpFhQFkHCAKCg/pP8A/9k=)**\n",
        "\n",
        "Arduino UNO can take power from USB or from DC Jack.\n",
        "\n",
        "USB already operates on 5V so it can be directly used.\n",
        "\n",
        "But, if you want to use DC Jack as well, we will need 5V Voltage regulator that can typically convert 12V(normal lead acid battery voltage) to 5V or from 9V (typical alkaline battery voltage) to 5V.\n",
        "\n",
        "Suitable ICs are LM7805 and AMS1117–5V.\n",
        "\n",
        "But wait, Arduino UNO can be powered either by DC Jack or USB Cable, so we will need to have a MOSFET switch that can switch between the two sources. (In order to not blow up USB Power source).\n",
        "\n",
        "All the Power Input / Output noises are filtered with Capacitors connected in parallel.\n",
        "\n"
      ],
      "metadata": {
        "id": "7_E0IHqnzMND"
      }
    },
    {
      "cell_type": "code",
      "source": [
        ""
      ],
      "metadata": {
        "id": "vFuHwR8S2SR4"
      },
      "execution_count": null,
      "outputs": []
    },
    {
      "cell_type": "code",
      "source": [
        ""
      ],
      "metadata": {
        "id": "wZiWgdAJ2i38"
      },
      "execution_count": null,
      "outputs": []
    },
    {
      "cell_type": "markdown",
      "source": [
        "**Is it possible to program Microcontroller directly?**\n",
        "\n",
        "---\n",
        "Microcontrollers are typically programmed in higher-level languages such as C++ or Java. One of the essential tools needed to program a microcontroller is an integrated development environment (IDE).\n"
      ],
      "metadata": {
        "id": "Y1GHJAl32j-o"
      }
    },
    {
      "cell_type": "code",
      "source": [
        ""
      ],
      "metadata": {
        "id": "Kom9rOkM20xU"
      },
      "execution_count": null,
      "outputs": []
    },
    {
      "cell_type": "code",
      "source": [
        ""
      ],
      "metadata": {
        "id": "Hta2toC521-G"
      },
      "execution_count": null,
      "outputs": []
    },
    {
      "cell_type": "markdown",
      "source": [
        "**How Can I Change The Usb Firmware?**\n",
        "\n",
        "---\n",
        "Enable the USB firmware upgrade function by CLI command.\n",
        "\n",
        "Save the firmware on the USB.\n",
        "\n",
        "Plug the USB into the device.\n",
        "\n",
        "The device checks the running partition for the model ID and the firmware version.\n",
        "\n",
        "Upgrade the firmware to the standby partition and then the device reboots.\n"
      ],
      "metadata": {
        "id": "QDvcn9ul25RY"
      }
    },
    {
      "cell_type": "code",
      "source": [
        ""
      ],
      "metadata": {
        "id": "D9fF1tz926E0"
      },
      "execution_count": null,
      "outputs": []
    }
  ]
}